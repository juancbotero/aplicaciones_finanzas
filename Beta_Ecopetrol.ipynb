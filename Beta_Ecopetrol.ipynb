{
 "cells": [
  {
   "cell_type": "code",
   "execution_count": null,
   "id": "4eb9aa7f-e48c-4d3d-9fc5-3161c4467fca",
   "metadata": {},
   "outputs": [],
   "source": [
    "# si usamos pip instalamos esto:\n",
    "    # pip install statsmodels\n",
    "# si tenemos conda instalamos esto:\n",
    "    # conda install -c conda-forge statsmodels"
   ]
  },
  {
   "cell_type": "code",
   "execution_count": null,
   "id": "c9733a94-d632-4d53-8634-d80d2455e0a6",
   "metadata": {},
   "outputs": [],
   "source": [
    "import numpy as np\n",
    "import pandas as pd\n",
    "\n",
    "import statistics\n",
    "\n",
    "import statsmodels.api as sm\n",
    "\n",
    "import matplotlib.pyplot as plt\n",
    "\n",
    "import seaborn as sns"
   ]
  },
  {
   "cell_type": "code",
   "execution_count": null,
   "id": "5191c0ee-beb2-4a51-a8e3-d39845a8574b",
   "metadata": {},
   "outputs": [],
   "source": [
    "datos_ecopetrol = pd.read_excel(r'C:/Users/Juan Carlos/Dropbox/Clases/EAFIT/Inversiones/Archivos Excel/Beta Ecopetrol.xlsx', sheet_name = 'ARG_Historical_Data') # path to file + file name\n",
    "\n",
    "print(datos_ecopetrol.head(5))  # print first 5 rows of the dataframe"
   ]
  },
  {
   "cell_type": "code",
   "execution_count": null,
   "id": "910e7165-4e45-4c6f-8988-efc1807a1bc0",
   "metadata": {},
   "outputs": [],
   "source": [
    "y = datos_ecopetrol['rECOP - rf'] # dependent variable\n",
    "X = datos_ecopetrol['rCOLCAP - rf'] # independent variable"
   ]
  },
  {
   "cell_type": "code",
   "execution_count": null,
   "id": "14d02594-361b-4f4a-afd2-3ed9a2192563",
   "metadata": {},
   "outputs": [],
   "source": [
    "# Now let’s add a constant and fit the model.\n",
    "\n",
    "X1 = sm.add_constant(X) # adding a constant\n",
    "OLS_model = sm.OLS(y, X1).fit() # fitting the model\n",
    "\n",
    "OLS_model.summary()\n"
   ]
  },
  {
   "cell_type": "code",
   "execution_count": null,
   "id": "57222f61-e6a3-4561-9c7d-8097819c0f4a",
   "metadata": {},
   "outputs": [],
   "source": [
    "residual_values = OLS_model.resid # residual values"
   ]
  },
  {
   "cell_type": "code",
   "execution_count": null,
   "id": "fa8cb3b7-6c6d-4d99-a7db-7732b66ebfe0",
   "metadata": {},
   "outputs": [],
   "source": [
    "print(residual_values.head(8))"
   ]
  },
  {
   "cell_type": "code",
   "execution_count": null,
   "id": "4c8c61e0-0ca6-4edf-996c-5a1a4218d771",
   "metadata": {},
   "outputs": [],
   "source": [
    "predicted = y - residual_values\n",
    "print(predicted)"
   ]
  },
  {
   "cell_type": "code",
   "execution_count": null,
   "id": "3f82fd28-e94f-42de-9ccd-6e3beb126ea6",
   "metadata": {},
   "outputs": [],
   "source": [
    "#use green as color for individual points\n",
    "plt.plot(X, y, 'o', color='green', alpha = 0.4)\n",
    "\n",
    "#obtain m (slope) and b(intercept) of linear regression line\n",
    "m, b = np.polyfit(X, y, 1)\n",
    "\n",
    "#use red as color for regression line\n",
    "plt.plot(X, m*X+b, color='red')\n",
    "\n",
    "#add axis labels\n",
    "plt.xlabel('rCOLCAP - rf (weekly)')\n",
    "plt.ylabel('rECOPETROL - rf (weekly)')\n",
    "\n",
    "plt.show()"
   ]
  },
  {
   "cell_type": "code",
   "execution_count": null,
   "id": "6c66d7a6-8042-4020-bb5a-c2e8185f9c85",
   "metadata": {},
   "outputs": [],
   "source": [
    "# print(\"Variance of residuals is % s\"\n",
    "  #    %(statistics.variance(residual_values)))"
   ]
  },
  {
   "cell_type": "code",
   "execution_count": null,
   "id": "079a7c83-e871-4fdf-806a-eaf3acd50351",
   "metadata": {},
   "outputs": [],
   "source": [
    "var_residuals = np.var(residual_values)\n",
    "print(f\"Variance of residuals is {var_residuals}\")\n",
    "\n",
    "Returns_Ecopetrol = datos_ecopetrol['Retorno Ecopetrol'] # Extraemos los retornos de Ecopetrol para calcular la varianza\n",
    "var_ecopetrol = np.var(Returns_Ecopetrol)\n",
    "print(f\"Variance of Ecopetrol is {var_ecopetrol}\")\n",
    "\n",
    "Returns_Colcap = datos_ecopetrol['Retorno Colcap'] # Extraemos los retornos del Colcap para calcular su varianza\n",
    "var_mercado = np.var(Returns_Colcap)\n",
    "print(f\"Variance of Colcap *Market* is {var_mercado}\")"
   ]
  },
  {
   "cell_type": "code",
   "execution_count": null,
   "id": "2fb3f803-ad7e-4dfc-b144-4ac89ee83c7c",
   "metadata": {},
   "outputs": [],
   "source": [
    "# plotting the points \n",
    "plt.plot(residual_values)\n",
    "  \n",
    "# naming the x axis\n",
    "# plt.xlabel('x - axis')\n",
    "# naming the y axis\n",
    "plt.ylabel('residuals')\n",
    "  \n",
    "# giving a title to my graph\n",
    "plt.title('Weekly Residuals')\n",
    "  \n",
    "# function to show the plot\n",
    "plt.show()"
   ]
  },
  {
   "cell_type": "code",
   "execution_count": null,
   "id": "bba80de3-122d-4671-96f3-c277219d7ecb",
   "metadata": {},
   "outputs": [],
   "source": [
    "Beta = OLS_model.params[1]\n",
    "print (Beta)"
   ]
  },
  {
   "cell_type": "code",
   "execution_count": null,
   "id": "c3c3660e-3cbc-4ef5-864c-6a6a8c1c4c08",
   "metadata": {},
   "outputs": [],
   "source": [
    "print(f\"Total Risk = {var_ecopetrol}\")\n",
    "print(f\"Systemic Risk = {var_mercado*Beta**2}\")\n",
    "print(f\"Idiosincratic Risk = {var_residuals}\")\n"
   ]
  },
  {
   "cell_type": "code",
   "execution_count": null,
   "id": "1b6ea5f8-33fd-438f-b1db-c69dd03a7eb7",
   "metadata": {},
   "outputs": [],
   "source": [
    "print(f\"% del riesgo total que corresponde a riesgo sistémico = {var_mercado*Beta**2/var_ecopetrol}\")\n"
   ]
  },
  {
   "cell_type": "code",
   "execution_count": null,
   "id": "da640549-2610-4d2f-bf2d-1ea051cc0675",
   "metadata": {},
   "outputs": [],
   "source": []
  }
 ],
 "metadata": {
  "kernelspec": {
   "display_name": "Python 3 (ipykernel)",
   "language": "python",
   "name": "python3"
  },
  "language_info": {
   "codemirror_mode": {
    "name": "ipython",
    "version": 3
   },
   "file_extension": ".py",
   "mimetype": "text/x-python",
   "name": "python",
   "nbconvert_exporter": "python",
   "pygments_lexer": "ipython3",
   "version": "3.10.9"
  }
 },
 "nbformat": 4,
 "nbformat_minor": 5
}
